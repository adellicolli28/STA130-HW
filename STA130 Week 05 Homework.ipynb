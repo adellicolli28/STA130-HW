{
 "cells": [
  {
   "cell_type": "code",
   "execution_count": null,
   "id": "b6f33f69",
   "metadata": {},
   "outputs": [],
   "source": [
    "from IPython.display import YouTubeVideo\n",
    "# First pre-lecture video: \n",
    "# \"Hypothesis testing. Null vs alternative\n",
    "# https://www.youtube.com/watch?v=ZzeXCKd5a18\n",
    "YouTubeVideo('ZzeXCKd5a18', width=800, height=500)"
   ]
  },
  {
   "cell_type": "code",
   "execution_count": null,
   "id": "d54f1f89",
   "metadata": {},
   "outputs": [],
   "source": [
    "from IPython.display import YouTubeVideo\n",
    "# Second pre-lecture video\n",
    "# \"What is a p-value\"\n",
    "# https://www.youtube.com/watch?v=9jW9G8MO4PQ\n",
    "YouTubeVideo('9jW9G8MO4PQ', width=800, height=500)"
   ]
  },
  {
   "cell_type": "markdown",
   "id": "4da7c790",
   "metadata": {},
   "source": [
    "1. The key factor that makes the difference between ideas that can, and cannot be examined and tested statistically is if there is enough data to compare the different variables to either accept or reject a null hypothesis. The key criteria for defining what a null hypothesis is that is must always assume no change or effect between variables in the study. The difference between the null hypothesis and the alternative hypothesis is that the alternative hypothesis is just the negation of the null, meaning that it suggests that there is an effect or change between variables in the study. "
   ]
  },
  {
   "cell_type": "markdown",
   "id": "97b93b38",
   "metadata": {},
   "source": [
    "2. The sentence above means when one is testing something, the individual data points from each sample are recorded and then a mean is found from each sample. The sample means are then all compared because they best represent the population of a whole. It is important to refer to the population perameter for outcomes of tests because they accuratley portray the population of a whole, which would give the best information to decide whether or not we can reject the null hypothesis or if there was an effect. "
   ]
  },
  {
   "cell_type": "markdown",
   "id": "5677af17",
   "metadata": {},
   "source": [
    "3. We imagine a world where the null hypothesis is true when calculating the p value because we are assessing how surprising or extreme our data is in that world. "
   ]
  },
  {
   "cell_type": "markdown",
   "id": "0c703a08",
   "metadata": {},
   "source": [
    "4. A smaller p-value makes the null hypothesis look \"more ridiculous\" because it indicates that the observed data is highly unlikely to occur if the null hypothesis were true."
   ]
  },
  {
   "cell_type": "code",
   "execution_count": 5,
   "id": "9c8340d9",
   "metadata": {},
   "outputs": [
    {
     "name": "stdout",
     "output_type": "stream",
     "text": [
      "P-value: 0.00050\n"
     ]
    }
   ],
   "source": [
    "import numpy as np\n",
    "\n",
    "# Observed data\n",
    "observed_right_tilts = 80\n",
    "total_couples = 124\n",
    "prob_right = 0.5  # Null hypothesis: 50% chance of tilting right\n",
    "\n",
    "# Number of simulations\n",
    "n_simulations = 10000\n",
    "\n",
    "# Simulate binomial outcomes (number of right tilts in each simulation)\n",
    "simulated_tilts = np.random.binomial(total_couples, prob_right, n_simulations)\n",
    "\n",
    "# Calculate p-value: proportion of simulations with at least as many right tilts as observed\n",
    "p_value = np.mean(simulated_tilts >= observed_right_tilts)\n",
    "\n",
    "print(f\"P-value: {p_value:.5f}\")"
   ]
  },
  {
   "cell_type": "markdown",
   "id": "881053be",
   "metadata": {},
   "source": [
    "5. The P-value obtained from this data ended up being 0.0050. According to the table, there is very strong evidence against the null hypothesis. This suggests that we can reject the null hypothesis, meaning that humans most likley do have head tilt tendencies left or right when kissing."
   ]
  },
  {
   "cell_type": "markdown",
   "id": "abe240f9",
   "metadata": {},
   "source": [
    "ChatBot Link: https://chatgpt.com/share/67003b53-d5b0-8004-bde0-de3fe391aab0"
   ]
  },
  {
   "cell_type": "markdown",
   "id": "585d8b09",
   "metadata": {},
   "source": [
    "6. A small p-value cannot definitively prove the null hypothesis is false because is a measure of liklihood, rather than certainty. While the p-value can provide evidence against a null hypothesis, it is only it is only an estimate of how likely the observed data would be if the null hypothesis were true."
   ]
  },
  {
   "cell_type": "markdown",
   "id": "c8a8e79f",
   "metadata": {},
   "source": [
    "7.  \n",
    "\n",
    "Changed from:\n",
    "abs(simulated_statistics - population_parameter_value_under_H0) >= ...\n",
    "To:\n",
    "simulated_statistics >= observed_statistic\n",
    "\n",
    "This condition change makes it so it is testing whether the vaccine improves health scores, so it focuses only on simulated statistics that are greater than or equal to the observed statistic. We should expect the p-value to be smaller in the \"one tailed\" versus \"two tailed\" analysis because the \"one tailed\" test is more focused on one specific outcome. "
   ]
  },
  {
   "cell_type": "code",
   "execution_count": 12,
   "id": "93ffda24",
   "metadata": {},
   "outputs": [
    {
     "name": "stdout",
     "output_type": "stream",
     "text": [
      "Observed statistic (proportion of positive changes): 0.8\n",
      "One-tailed p-value: 0.0565\n"
     ]
    }
   ],
   "source": [
    "import pandas as pd\n",
    "import numpy as np\n",
    "\n",
    "# Sample data\n",
    "patient_data = pd.DataFrame({\n",
    "    \"PatientID\": [1, 2, 3, 4, 5, 6, 7, 8, 9, 10],\n",
    "    \"Age\": [45, 34, 29, 52, 37, 41, 33, 48, 26, 39],\n",
    "    \"Gender\": [\"M\", \"F\", \"M\", \"F\", \"M\", \"F\", \"M\", \"F\", \"M\", \"F\"],\n",
    "    \"InitialHealthScore\": [84, 78, 83, 81, 81, 80, 79, 85, 76, 83],\n",
    "    \"FinalHealthScore\": [86, 86, 80, 86, 84, 86, 86, 82, 83, 84]\n",
    "})\n",
    "\n",
    "# Calculate Health Score Change\n",
    "patient_data['HealthScoreChange'] = patient_data['FinalHealthScore'] - patient_data['InitialHealthScore']\n",
    "\n",
    "# One-sided hypothesis test (testing if proportion of positive changes > 0.5)\n",
    "np.random.seed(1)  # Make simulation reproducible\n",
    "number_of_simulations = 10000\n",
    "n_size = len(patient_data)\n",
    "IncreaseProportionSimulations_underH0random = np.zeros(number_of_simulations)\n",
    "\n",
    "# Simulate random improvements assuming null hypothesis (no effect) is true\n",
    "for i in range(number_of_simulations):\n",
    "    random_improvement = np.random.choice([0, 1], size=n_size, replace=True)\n",
    "    IncreaseProportionSimulations_underH0random[i] = random_improvement.mean()\n",
    "\n",
    "# Observed statistic: Proportion of positive health score changes\n",
    "observed_statistic = (patient_data['HealthScoreChange'] > 0).mean()\n",
    "population_parameter_value_under_H0 = 0.5\n",
    "\n",
    "# One-tailed test: Are simulated statistics greater than or equal to observed?\n",
    "SimStats_as_or_more_extreme_than_ObsStat = \\\n",
    "    IncreaseProportionSimulations_underH0random >= observed_statistic\n",
    "\n",
    "# Calculate p-value (proportion of simulations as extreme as the observed)\n",
    "p_value = SimStats_as_or_more_extreme_than_ObsStat.mean()\n",
    "\n",
    "# Print results\n",
    "print(f\"Observed statistic (proportion of positive changes): {observed_statistic}\")\n",
    "print(f\"One-tailed p-value: {p_value}\")"
   ]
  },
  {
   "cell_type": "markdown",
   "id": "f9a1c60d",
   "metadata": {},
   "source": [
    "ChatBot Link: https://chatgpt.com/share/67047fd7-8d34-8004-9533-a09be677fcf8"
   ]
  },
  {
   "cell_type": "markdown",
   "id": "4f534093",
   "metadata": {},
   "source": [
    "8. \n",
    "\n",
    "The original Fisher experiment had 8 cups, while the STA130 experiment involves 80 students, making the population much larger. This implies we need to account for a different sampling size and population structure when interpreting statistical significance.\n",
    "\n",
    "Description of the population (and sample) and parameter of interest (and corresponding observed test statistic): the population in this analysis refers to all students of STA130 and the sample is 80 students. The parameter of interest is the probability that a randomly selected STA130 student can correctly identify which was poured first (milk or tea). \n",
    "\n",
    "Formal null hypothesis: we assume p=0.5, where p represents the probability of correctly identifying which was poured first\n",
    "\n",
    "Informal null hypothesis: the students are guessing randomly and have no ability to disguingish between tea poured first or milk poured first\n",
    "\n",
    "Alternative hypothesis: the students are not guessing randomly, and the proportion of students correctly identifying which was poured first is greater than 0.5.\n",
    "\n",
    "Conclusion/analysis: based on the p-value being less than 0.05, we have evidence suggesting we can reject the null hypothesis. This implies that there is statistically significant evidence to support the alternative hypothesis, meaning students are not guessing randomly when it comes to milk or tea being poured first. The STA130 experiment provides a strong foundation for making conclusions about everyone's ability to distinguish between the two methods of pouring tea, resulting in possibly better evidence and easier to understand conclusions compared to Fisher's original story."
   ]
  },
  {
   "cell_type": "code",
   "execution_count": 14,
   "id": "ee72258c",
   "metadata": {},
   "outputs": [
    {
     "data": {
      "image/png": "[encoded data removed]",
      "text/plain": [
       "<Figure size 640x480 with 1 Axes>"
      ]
     },
     "metadata": {},
     "output_type": "display_data"
    },
    {
     "name": "stdout",
     "output_type": "stream",
     "text": [
      "P-value: 0.0294\n",
      "95% Confidence Interval for Proportion: (0.3875, 0.6125)\n"
     ]
    }
   ],
   "source": [
    "import numpy as np\n",
    "import matplotlib.pyplot as plt\n",
    "\n",
    "# Set seed for reproducibility\n",
    "np.random.seed(42)\n",
    "\n",
    "# Given data\n",
    "n_students = 80\n",
    "n_correct = 49\n",
    "p_null = 0.5  # Null hypothesis proportion\n",
    "\n",
    "# Simulation parameters\n",
    "n_simulations = 10000\n",
    "simulated_successes = np.random.binomial(n_students, p_null, n_simulations)\n",
    "\n",
    "# Calculate the p-value\n",
    "observed_successes = n_correct\n",
    "p_value = np.mean(simulated_successes >= observed_successes)\n",
    "\n",
    "# Calculate confidence interval\n",
    "ci_low = np.percentile(simulated_successes, 2.5)\n",
    "ci_high = np.percentile(simulated_successes, 97.5)\n",
    "\n",
    "# Visualizing the simulation results\n",
    "plt.hist(simulated_successes / n_students, bins=30, alpha=0.7, color='blue', edgecolor='black')\n",
    "plt.axvline(observed_successes / n_students, color='red', linestyle='dashed', linewidth=1.5)\n",
    "plt.title('Simulation of Correct Guess Proportions')\n",
    "plt.xlabel('Proportion of Correct Guesses')\n",
    "plt.ylabel('Frequency')\n",
    "plt.show()\n",
    "\n",
    "print(f'P-value: {p_value}')\n",
    "print(f'95% Confidence Interval for Proportion: ({ci_low/n_students}, {ci_high/n_students})')"
   ]
  },
  {
   "cell_type": "markdown",
   "id": "2f0b6f57",
   "metadata": {},
   "source": [
    "ChatBot Link: https://chatgpt.com/share/6704869e-3f18-8004-b02e-385fedf364b5"
   ]
  }
 ],
 "metadata": {
  "kernelspec": {
   "display_name": "Python 3 (ipykernel)",
   "language": "python",
   "name": "python3"
  },
  "language_info": {
   "codemirror_mode": {
    "name": "ipython",
    "version": 3
   },
   "file_extension": ".py",
   "mimetype": "text/x-python",
   "name": "python",
   "nbconvert_exporter": "python",
   "pygments_lexer": "ipython3",
   "version": "3.11.6"
  }
 },
 "nbformat": 4,
 "nbformat_minor": 5
}
